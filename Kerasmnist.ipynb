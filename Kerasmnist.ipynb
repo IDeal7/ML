{
  "nbformat": 4,
  "nbformat_minor": 0,
  "metadata": {
    "colab": {
      "name": "Kerasmnist.ipynb",
      "provenance": [],
      "authorship_tag": "ABX9TyNCDpgbb+fkkKNKOiHS2cpx",
      "include_colab_link": true
    },
    "kernelspec": {
      "name": "python3",
      "display_name": "Python 3"
    }
  },
  "cells": [
    {
      "cell_type": "markdown",
      "metadata": {
        "id": "view-in-github",
        "colab_type": "text"
      },
      "source": [
        "<a href=\"https://colab.research.google.com/github/IDeal7/ML/blob/master/Kerasmnist.ipynb\" target=\"_parent\"><img src=\"https://colab.research.google.com/assets/colab-badge.svg\" alt=\"Open In Colab\"/></a>"
      ]
    },
    {
      "cell_type": "code",
      "metadata": {
        "id": "CtGASdbjrfZz",
        "colab_type": "code",
        "colab": {}
      },
      "source": [
        "import numpy as np                     # Numpy   \n",
        "from keras.utils import np_utils       # 이하 Keras 모듈들입니다.\n",
        "from keras.models import Sequential\n",
        "from keras.layers import Conv2D, MaxPooling2D, Dense, Flatten, Dropout, Dense, Activation\n",
        "(x_train, y_train), (x_test, y_test) = keras.datasets.mnist.load_data() # mnist 데이터를 불러왔습니다."
      ],
      "execution_count": 0,
      "outputs": []
    },
    {
      "cell_type": "code",
      "metadata": {
        "id": "uYQhkQ5Ptyva",
        "colab_type": "code",
        "colab": {}
      },
      "source": [
        "# Preprocess input data for Keras.\n",
        "x_train = x_train.reshape(x_train.shape[0], 28, 28, 1)   # Tensorflow 에서는 (width,height,channel)로 표현됩니다.\n",
        "x_test = x_test.reshape(x_test.shape[0], 28, 28, 1)\n",
        "x_train = x_train.astype('float32') / 255.\n",
        "x_test = x_test.astype('float32') / 255.\n",
        "\n",
        "# Preprocess class labels for keras. (one-hot encoding) ex) 3 => [0,0,1,0,0,0,0,0,0,0]\n",
        "y_train = keras.utils.to_categorical(y_train, 10)\n",
        "y_test = keras.utils.to_categorical(y_test, 10)\n",
        "\n",
        "# 28x28x1로 차원 변경 및 float로 변경, 각 픽셀의 값도 [0,1]로 맞췄다.\n",
        "# to_categorical 함수는 [0,9] 사이의 숫자 y를 바이너리 배열로 변환시킨다."
      ],
      "execution_count": 0,
      "outputs": []
    },
    {
      "cell_type": "code",
      "metadata": {
        "id": "ubVik9hNt_kw",
        "colab_type": "code",
        "colab": {
          "base_uri": "https://localhost:8080/",
          "height": 125
        },
        "outputId": "5c59d6c2-28f8-431a-cbb9-9e1d8195ad47"
      },
      "source": [
        "#Define model architecture.\n",
        "model = Sequential()                        # Sequential() layer를 순차적으로 연결하는 모델 함수\n",
        "model.add(Conv2D(filters=32,                # add 명령으로 layer를 추가한다.\n",
        "                 kernel_size=(5, 5),        # Conv2D에는 filter : 필터(커널)의 개수\n",
        "                 strides=(1, 1),            # kernel_size : 필터의 크기\n",
        "                 padding='same',            # strides : 필터 이동간격\n",
        "                 activation='relu',         # padding : valid(패딩 없음) , same(인풋과 아웃풋이 같다.)\n",
        "                 input_shape=(28, 28, 1)))  # input_shape : 첫 레이어에 인풋으로 들어오는 크기\n",
        "# model.add(Conv2D(32, 5, 5, activation='relu', input_shape=(28,28, 1)))\n",
        "print(model.output_shape)\n",
        "\n",
        "model.add(MaxPooling2D(pool_size=(2, 2),    # pool_size : 축소시킬 필터의 크기\n",
        "                       strides=(2, 2)))     # strides : 기본값으로 pool_size 만큼\n",
        "#model.add(pooling.MaxPooling2D(pool_size=(2,2)))\n",
        "print(model.output_shape)\n",
        "\n",
        "model.add(Conv2D(filters=64,                \n",
        "                 kernel_size=(3, 3),\n",
        "                 strides=(1, 1),\n",
        "                 activation='relu',\n",
        "                 padding='same'))\n",
        "print(model.output_shape)\n",
        "\n",
        "model.add(MaxPooling2D(pool_size=(2, 2),\n",
        "                       strides=(2, 2)))\n",
        "print(model.output_shape)\n",
        "\n",
        "model.add(Dropout(0.3))                     # 해당 비율만큼 drop\n",
        "model.add(Flatten())                        # 1차원 변환\n",
        "print(model.output_shape)\n",
        "\n",
        "model.add(Dense(units=500,                \n",
        "                activation='relu'))\n",
        "model.add(Dropout(0.3))\n",
        "model.add(Dense(10, activation='softmax'))\n",
        "print(model.output_shape)\n",
        "\n",
        "#Compile model.\n",
        "model.compile(loss='categorical_crossentropy',\n",
        "              optimizer='adam',\n",
        "              metrics=['accuracy'])"
      ],
      "execution_count": 45,
      "outputs": [
        {
          "output_type": "stream",
          "text": [
            "(None, 28, 28, 32)\n",
            "(None, 14, 14, 32)\n",
            "(None, 14, 14, 64)\n",
            "(None, 7, 7, 64)\n",
            "(None, 3136)\n",
            "(None, 10)\n"
          ],
          "name": "stdout"
        }
      ]
    },
    {
      "cell_type": "code",
      "metadata": {
        "id": "qvwP-_vk6WcD",
        "colab_type": "code",
        "colab": {
          "base_uri": "https://localhost:8080/",
          "height": 431
        },
        "outputId": "2de1aa67-60ec-4d41-d9f4-11dbc67e04f3"
      },
      "source": [
        "model.fit(x_train, y_train, batch_size=32, nb_epoch=10, verbose=1)"
      ],
      "execution_count": 46,
      "outputs": [
        {
          "output_type": "stream",
          "text": [
            "/usr/local/lib/python3.6/dist-packages/ipykernel_launcher.py:1: UserWarning: The `nb_epoch` argument in `fit` has been renamed `epochs`.\n",
            "  \"\"\"Entry point for launching an IPython kernel.\n"
          ],
          "name": "stderr"
        },
        {
          "output_type": "stream",
          "text": [
            "Epoch 1/10\n",
            "60000/60000 [==============================] - 131s 2ms/step - loss: 0.1280 - accuracy: 0.9604\n",
            "Epoch 2/10\n",
            "60000/60000 [==============================] - 128s 2ms/step - loss: 0.0499 - accuracy: 0.9840\n",
            "Epoch 3/10\n",
            "60000/60000 [==============================] - 127s 2ms/step - loss: 0.0379 - accuracy: 0.9879\n",
            "Epoch 4/10\n",
            "60000/60000 [==============================] - 128s 2ms/step - loss: 0.0298 - accuracy: 0.9908\n",
            "Epoch 5/10\n",
            "60000/60000 [==============================] - 132s 2ms/step - loss: 0.0263 - accuracy: 0.9913\n",
            "Epoch 6/10\n",
            "60000/60000 [==============================] - 123s 2ms/step - loss: 0.0232 - accuracy: 0.9924\n",
            "Epoch 7/10\n",
            "60000/60000 [==============================] - 124s 2ms/step - loss: 0.0199 - accuracy: 0.9936\n",
            "Epoch 8/10\n",
            "60000/60000 [==============================] - 125s 2ms/step - loss: 0.0178 - accuracy: 0.9942\n",
            "Epoch 9/10\n",
            "60000/60000 [==============================] - 127s 2ms/step - loss: 0.0164 - accuracy: 0.9946\n",
            "Epoch 10/10\n",
            "60000/60000 [==============================] - 124s 2ms/step - loss: 0.0155 - accuracy: 0.9952\n"
          ],
          "name": "stdout"
        },
        {
          "output_type": "execute_result",
          "data": {
            "text/plain": [
              "<keras.callbacks.callbacks.History at 0x7ff62aefc860>"
            ]
          },
          "metadata": {
            "tags": []
          },
          "execution_count": 46
        }
      ]
    },
    {
      "cell_type": "code",
      "metadata": {
        "id": "Ku7_LlpKBrJ8",
        "colab_type": "code",
        "colab": {
          "base_uri": "https://localhost:8080/",
          "height": 35
        },
        "outputId": "e70028b2-619c-453f-ba7e-163559ad27c4"
      },
      "source": [
        "score = model.evaluate (x_test, y_test, verbose = 0)\n",
        "print(model.metrics_names, score)"
      ],
      "execution_count": 48,
      "outputs": [
        {
          "output_type": "stream",
          "text": [
            "['loss', 'accuracy'] [0.035020442872269505, 0.9925000071525574]\n"
          ],
          "name": "stdout"
        }
      ]
    }
  ]
}